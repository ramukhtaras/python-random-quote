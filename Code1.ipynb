{
  "nbformat": 4,
  "nbformat_minor": 0,
  "metadata": {
    "colab": {
      "name": "Code1.ipynb",
      "provenance": [],
      "mount_file_id": "1TMMW9qiMs425PMr9jYc5GrIx5PUNmz4h",
      "authorship_tag": "ABX9TyMRnBozYU0nTrYWvfuCIS27",
      "include_colab_link": true
    },
    "kernelspec": {
      "name": "python3",
      "display_name": "Python 3"
    },
    "language_info": {
      "name": "python"
    },
    "accelerator": "GPU",
    "gpuClass": "standard"
  },
  "cells": [
    {
      "cell_type": "markdown",
      "metadata": {
        "id": "view-in-github",
        "colab_type": "text"
      },
      "source": [
        "<a href=\"https://colab.research.google.com/github/ramukhtaras/python-random-quote/blob/master/Code1.ipynb\" target=\"_parent\"><img src=\"https://colab.research.google.com/assets/colab-badge.svg\" alt=\"Open In Colab\"/></a>"
      ]
    },
    {
      "cell_type": "code",
      "source": [
        "#sample test "
      ],
      "metadata": {
        "id": "4Hj-04F-dalB"
      },
      "execution_count": null,
      "outputs": []
    }
  ]
}